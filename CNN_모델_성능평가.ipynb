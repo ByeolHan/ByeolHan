{
  "nbformat": 4,
  "nbformat_minor": 0,
  "metadata": {
    "colab": {
      "name": "CNN 모델 성능평가",
      "provenance": [],
      "collapsed_sections": [],
      "include_colab_link": true
    },
    "kernelspec": {
      "name": "python3",
      "display_name": "Python 3"
    },
    "language_info": {
      "name": "python"
    }
  },
  "cells": [
    {
      "cell_type": "markdown",
      "metadata": {
        "id": "view-in-github",
        "colab_type": "text"
      },
      "source": [
        "<a href=\"https://colab.research.google.com/github/ByeolHan/ByeolHan/blob/main/CNN_%EB%AA%A8%EB%8D%B8_%EC%84%B1%EB%8A%A5%ED%8F%89%EA%B0%80.ipynb\" target=\"_parent\"><img src=\"https://colab.research.google.com/assets/colab-badge.svg\" alt=\"Open In Colab\"/></a>"
      ]
    },
    {
      "cell_type": "markdown",
      "metadata": {
        "id": "mPZIsPL8CJqz"
      },
      "source": [
        "# 데이터 전처리"
      ]
    },
    {
      "cell_type": "code",
      "metadata": {
        "colab": {
          "base_uri": "https://localhost:8080/"
        },
        "id": "4JEo9PfQDLbv",
        "outputId": "7e8b3550-dbe3-499f-c52d-27891580692e"
      },
      "source": [
        "import os, sys \n",
        "from google.colab import drive \n",
        "drive.mount('/content/mnt') \n",
        "nb_path = '/content/notebooks' \n",
        "os.symlink('/content/mnt/My Drive/Colab Notebooks', nb_path) \n",
        "sys.path.insert(0, nb_path)"
      ],
      "execution_count": 1,
      "outputs": [
        {
          "output_type": "stream",
          "text": [
            "Mounted at /content/mnt\n"
          ],
          "name": "stdout"
        }
      ]
    },
    {
      "cell_type": "code",
      "metadata": {
        "id": "wz2yNYBU-BCF"
      },
      "source": [
        "from PIL import Image\n",
        "import matplotlib\n",
        "import matplotlib.pyplot as plt\n",
        "import torch\n",
        "from torch.utils.data import Dataset, DataLoader\n",
        "import numpy as np\n",
        "import torchvision\n",
        "from torchvision import transforms"
      ],
      "execution_count": 2,
      "outputs": []
    },
    {
      "cell_type": "code",
      "metadata": {
        "id": "NTVDXVu2_ao5"
      },
      "source": [
        "preprocess = transforms.Compose([\n",
        "    transforms.Resize(256), # 사이즈 처리\n",
        "    transforms.CenterCrop(224), # 화면에 여백이 없도록 사이즈 조정\n",
        "    transforms.ToTensor(), # 이미지를 텐서형태로 변환\n",
        "    transforms.Normalize(mean=[0.485, 0.456, 0.406], std=[0.229, 0.224, 0.225]), # 정규화\n",
        "])\n",
        "\n",
        "test_set = torchvision.datasets.ImageFolder(root='/content/notebooks/ILSVRC2012_img_val',\n",
        "                                            transform = preprocess)"
      ],
      "execution_count": 3,
      "outputs": []
    },
    {
      "cell_type": "code",
      "metadata": {
        "id": "9knHHWgiFO_P"
      },
      "source": [
        "# 배치형식으로 네트워크에 올릴 수 있게 준비\n",
        "testloader = DataLoader(test_set, batch_size=64,shuffle=False, num_workers=2)"
      ],
      "execution_count": 4,
      "outputs": []
    },
    {
      "cell_type": "code",
      "metadata": {
        "id": "Vj_fWncqH1b7"
      },
      "source": [
        "# 확인차\n",
        "dataiter = iter(testloader)\n",
        "images, labels = dataiter.next()\n",
        "print(labels)"
      ],
      "execution_count": null,
      "outputs": []
    },
    {
      "cell_type": "markdown",
      "metadata": {
        "id": "X7G1dLH4CeOp"
      },
      "source": [
        "# 모델 불러오기 / 성능 확인"
      ]
    },
    {
      "cell_type": "markdown",
      "metadata": {
        "id": "r5Q-EIrSCif8"
      },
      "source": [
        "## 1. Alexnet"
      ]
    },
    {
      "cell_type": "code",
      "metadata": {
        "id": "pA4Aa46MGz_1"
      },
      "source": [
        "import torch\n",
        "import torchvision\n",
        "model = torch.hub.load('pytorch/vision:v0.9.0', 'alexnet', pretrained=True)\n",
        "model.eval()"
      ],
      "execution_count": null,
      "outputs": []
    },
    {
      "cell_type": "code",
      "metadata": {
        "colab": {
          "base_uri": "https://localhost:8080/"
        },
        "id": "02aMy5AxFRee",
        "outputId": "213f4c13-a7c8-47d3-f879-a638486daa71"
      },
      "source": [
        "# 성능 함수\n",
        "correct_Alexnet = 0\n",
        "total_Alexnet = 0\n",
        "\n",
        "if torch.cuda.is_available():\n",
        "    model.to('cuda')\n",
        "\n",
        "with torch.no_grad():\n",
        "    for data in testloader:      \n",
        "        images, labels = data\n",
        "        images = images.to('cuda')   \n",
        "        labels = labels.to('cuda')    \n",
        "        outputs = model(images)\n",
        "        _, predicted = torch.max(outputs.data, 1) #top-1 accuracy\n",
        "        total_Alexnet += labels.size(0)\n",
        "        correct_Alexnet += (predicted == labels).sum().item()\n",
        "\n",
        "print('Accuracy of the network on the 50000 test images: %d %%' % (\n",
        "    100 * correct_Alexnet / total_Alexnet))"
      ],
      "execution_count": null,
      "outputs": [
        {
          "output_type": "stream",
          "text": [
            "Accuracy of the network on the 50000 test images: 56 %\n"
          ],
          "name": "stdout"
        }
      ]
    },
    {
      "cell_type": "markdown",
      "metadata": {
        "id": "Tmgixz4kCnCV"
      },
      "source": [
        "## 2. VGG16"
      ]
    },
    {
      "cell_type": "code",
      "metadata": {
        "id": "4BJDH66SG3T_"
      },
      "source": [
        "import torch\n",
        "import torchvision\n",
        "model = torch.hub.load('pytorch/vision:v0.9.0', 'vgg16', pretrained=True)\n",
        "model.eval()"
      ],
      "execution_count": null,
      "outputs": []
    },
    {
      "cell_type": "code",
      "metadata": {
        "colab": {
          "base_uri": "https://localhost:8080/"
        },
        "id": "LSIatVKKDVWG",
        "outputId": "1bfb9c2c-da76-4cc2-9b97-ec616a2cb379"
      },
      "source": [
        "# 성능 함수\n",
        "correct_VGG16 = 0\n",
        "total_VGG16 = 0\n",
        "\n",
        "if torch.cuda.is_available():\n",
        "    model.to('cuda')\n",
        "\n",
        "with torch.no_grad():\n",
        "    for data in testloader:      \n",
        "        images, labels = data\n",
        "        images = images.to('cuda')   \n",
        "        labels = labels.to('cuda')    \n",
        "        outputs = model(images)\n",
        "        _, predicted = torch.max(outputs.data, 1) #top-1 accuracy\n",
        "        total_VGG16 += labels.size(0)\n",
        "        correct_VGG16 += (predicted == labels).sum().item()\n",
        "\n",
        "print('Accuracy of the network on the 50000 test images: %d %%' % (\n",
        "    100 * correct_VGG16 / total_VGG16))"
      ],
      "execution_count": 6,
      "outputs": [
        {
          "output_type": "stream",
          "text": [
            "Accuracy of the network on the 50000 test images: 71 %\n"
          ],
          "name": "stdout"
        }
      ]
    },
    {
      "cell_type": "markdown",
      "metadata": {
        "id": "_mkia6r0CwPu"
      },
      "source": [
        "## 3. ResNet18"
      ]
    },
    {
      "cell_type": "code",
      "metadata": {
        "id": "k34bFycG_bJ0"
      },
      "source": [
        "# resnet18 모델 로딩\n",
        "import torch\n",
        "import torchvision\n",
        "model = torch.hub.load('pytorch/vision:v0.9.0', 'resnet18', pretrained=True)\n",
        "model.eval()"
      ],
      "execution_count": null,
      "outputs": []
    },
    {
      "cell_type": "code",
      "metadata": {
        "colab": {
          "base_uri": "https://localhost:8080/"
        },
        "id": "NL6S9NcZDFIO",
        "outputId": "97406d52-8d15-4cc6-c267-4af5e056f93f"
      },
      "source": [
        "# 성능 함수\n",
        "correct_ResNet = 0\n",
        "total_ResNet = 0\n",
        "\n",
        "if torch.cuda.is_available():\n",
        "    model.to('cuda')\n",
        "\n",
        "with torch.no_grad():\n",
        "    for data in testloader:      \n",
        "        images, labels = data\n",
        "        images = images.to('cuda')   \n",
        "        labels = labels.to('cuda')    \n",
        "        outputs = model(images)\n",
        "        _, predicted = torch.max(outputs.data, 1) #top-1 accuracy\n",
        "        total_ResNet += labels.size(0)\n",
        "        correct_ResNet += (predicted == labels).sum().item()\n",
        "\n",
        "print('Accuracy of the network on the 50000 test images: %d %%' % (\n",
        "    100 * correct_ResNet / total_ResNet))"
      ],
      "execution_count": 8,
      "outputs": [
        {
          "output_type": "stream",
          "text": [
            "Accuracy of the network on the 50000 test images: 69 %\n"
          ],
          "name": "stdout"
        }
      ]
    },
    {
      "cell_type": "markdown",
      "metadata": {
        "id": "kGWaBVvoC0h4"
      },
      "source": [
        "## 4. GoogLeNet"
      ]
    },
    {
      "cell_type": "code",
      "metadata": {
        "id": "zDGMcgeAGxS5"
      },
      "source": [
        "import torch\n",
        "import torchvision\n",
        "model = torch.hub.load('pytorch/vision:v0.9.0', 'googlenet', pretrained=True)\n",
        "model.eval()"
      ],
      "execution_count": null,
      "outputs": []
    },
    {
      "cell_type": "code",
      "metadata": {
        "colab": {
          "base_uri": "https://localhost:8080/"
        },
        "id": "naln7Q0EDSEe",
        "outputId": "8e336ed5-68d9-4afa-fa82-ffe18c9f71ed"
      },
      "source": [
        "# 성능 함수\n",
        "correct_GoogLeNet = 0\n",
        "total_GoogLeNet = 0\n",
        "\n",
        "if torch.cuda.is_available():\n",
        "    model.to('cuda')\n",
        "\n",
        "with torch.no_grad():\n",
        "    for data in testloader:      \n",
        "        images, labels = data\n",
        "        images = images.to('cuda')   \n",
        "        labels = labels.to('cuda')    \n",
        "        outputs = model(images)\n",
        "        _, predicted = torch.max(outputs.data, 1) #top-1 accuracy\n",
        "        total_GoogLeNet += labels.size(0)\n",
        "        correct_GoogLeNet += (predicted == labels).sum().item()\n",
        "\n",
        "print('Accuracy of the network on the 50000 test images: %d %%' % (\n",
        "    100 * correct_GoogLeNet / total_GoogLeNet))"
      ],
      "execution_count": 10,
      "outputs": [
        {
          "output_type": "stream",
          "text": [
            "Accuracy of the network on the 50000 test images: 69 %\n"
          ],
          "name": "stdout"
        }
      ]
    },
    {
      "cell_type": "markdown",
      "metadata": {
        "id": "RlcBMb7vDKoO"
      },
      "source": [
        "# 성능 비교\n",
        "\n",
        "|모델|AlexNet|VGG16|ResNet|GoogLeNet|\n",
        "|---|---|---|---|---|\n",
        "|성능|56%|71%|69%|69%|\n"
      ]
    }
  ]
}